{
 "cells": [
  {
   "cell_type": "code",
   "execution_count": 118,
   "id": "7f4b93d4-39d0-4714-92c8-a2c563d10851",
   "metadata": {},
   "outputs": [],
   "source": [
    "import pandas as pd\n",
    "import numpy as np\n",
    "import os\n",
    "import matplotlib.pyplot as plt\n",
    "\n",
    "from sklearn.feature_extraction.text import CountVectorizer\n",
    "from sklearn.naive_bayes import GaussianNB\n",
    "from sklearn.ensemble import GradientBoostingClassifier"
   ]
  },
  {
   "cell_type": "markdown",
   "id": "528d23c4-8142-4b41-bdf0-56afb308c3ef",
   "metadata": {},
   "source": [
    "## Load the Data"
   ]
  },
  {
   "cell_type": "code",
   "execution_count": 54,
   "id": "e268cf85-0e8c-40a5-a0e2-545498437b7b",
   "metadata": {},
   "outputs": [],
   "source": [
    "def load_data(data_dir, train=True):\n",
    "    if train == True:\n",
    "            data_dir = os.path.join(data_dir, \"train\")\n",
    "    else:\n",
    "            data_dir = os.path.join(data_dir, \"test\")\n",
    "\n",
    "    data_id = []\n",
    "    score = []\n",
    "    review_l = []\n",
    "    sentiments_l = []\n",
    "    \n",
    "    sentiments = [\"pos\", \"neg\"]\n",
    "    for s in sentiments:\n",
    "        path = os.path.join(data_dir, s)\n",
    "\n",
    "        for file in os.listdir(path):\n",
    "            data_id.append(file.split(\"_\")[0])\n",
    "            score.append(file.split(\"_\")[1].split(\".\")[0])\n",
    "            sentiments_l.append(s)\n",
    "            with open(os.path.join(path, file), encoding=\"utf-8\") as f:\n",
    "                review = f.read()\n",
    "                review_l.append(str(review))\n",
    "                \n",
    "    df = pd.DataFrame()\n",
    "    df[\"id\"] = data_id\n",
    "    df[\"score\"] = score\n",
    "    df[\"review\"] = review_l\n",
    "    df[\"sentiment\"] = sentiments_l\n",
    "    \n",
    "    return df   "
   ]
  },
  {
   "cell_type": "code",
   "execution_count": 55,
   "id": "d92b71eb-0fda-43e9-9058-d398a43f711c",
   "metadata": {},
   "outputs": [
    {
     "name": "stdout",
     "output_type": "stream",
     "text": [
      "(25000, 4)\n",
      "(25000, 4)\n"
     ]
    }
   ],
   "source": [
    "data_dir = \"aclImdb/\"\n",
    "train_df = load_data(data_dir, train=True)\n",
    "test_df = load_data(data_dir, train=False)\n",
    "print(train_df.shape)\n",
    "print(test_df.shape)"
   ]
  },
  {
   "cell_type": "markdown",
   "id": "f867b4af-2158-40b6-b4eb-506062fe9c6b",
   "metadata": {},
   "source": [
    "## EDA"
   ]
  },
  {
   "cell_type": "code",
   "execution_count": 56,
   "id": "3ae6f38b-ff17-4405-adef-cf80c3ce8b0f",
   "metadata": {},
   "outputs": [
    {
     "data": {
      "text/html": [
       "<div>\n",
       "<style scoped>\n",
       "    .dataframe tbody tr th:only-of-type {\n",
       "        vertical-align: middle;\n",
       "    }\n",
       "\n",
       "    .dataframe tbody tr th {\n",
       "        vertical-align: top;\n",
       "    }\n",
       "\n",
       "    .dataframe thead th {\n",
       "        text-align: right;\n",
       "    }\n",
       "</style>\n",
       "<table border=\"1\" class=\"dataframe\">\n",
       "  <thead>\n",
       "    <tr style=\"text-align: right;\">\n",
       "      <th></th>\n",
       "      <th>id</th>\n",
       "      <th>score</th>\n",
       "      <th>review</th>\n",
       "      <th>sentiment</th>\n",
       "    </tr>\n",
       "  </thead>\n",
       "  <tbody>\n",
       "    <tr>\n",
       "      <th>0</th>\n",
       "      <td>0</td>\n",
       "      <td>9</td>\n",
       "      <td>Bromwell High is a cartoon comedy. It ran at t...</td>\n",
       "      <td>pos</td>\n",
       "    </tr>\n",
       "    <tr>\n",
       "      <th>1</th>\n",
       "      <td>10000</td>\n",
       "      <td>8</td>\n",
       "      <td>Homelessness (or Houselessness as George Carli...</td>\n",
       "      <td>pos</td>\n",
       "    </tr>\n",
       "    <tr>\n",
       "      <th>2</th>\n",
       "      <td>10001</td>\n",
       "      <td>10</td>\n",
       "      <td>Brilliant over-acting by Lesley Ann Warren. Be...</td>\n",
       "      <td>pos</td>\n",
       "    </tr>\n",
       "  </tbody>\n",
       "</table>\n",
       "</div>"
      ],
      "text/plain": [
       "      id score                                             review sentiment\n",
       "0      0     9  Bromwell High is a cartoon comedy. It ran at t...       pos\n",
       "1  10000     8  Homelessness (or Houselessness as George Carli...       pos\n",
       "2  10001    10  Brilliant over-acting by Lesley Ann Warren. Be...       pos"
      ]
     },
     "execution_count": 56,
     "metadata": {},
     "output_type": "execute_result"
    }
   ],
   "source": [
    "train_df.head(3)"
   ]
  },
  {
   "cell_type": "code",
   "execution_count": 57,
   "id": "d2f6aaf0-7232-4ea5-86f7-bc6bd6c1de7c",
   "metadata": {},
   "outputs": [
    {
     "data": {
      "text/html": [
       "<div>\n",
       "<style scoped>\n",
       "    .dataframe tbody tr th:only-of-type {\n",
       "        vertical-align: middle;\n",
       "    }\n",
       "\n",
       "    .dataframe tbody tr th {\n",
       "        vertical-align: top;\n",
       "    }\n",
       "\n",
       "    .dataframe thead th {\n",
       "        text-align: right;\n",
       "    }\n",
       "</style>\n",
       "<table border=\"1\" class=\"dataframe\">\n",
       "  <thead>\n",
       "    <tr style=\"text-align: right;\">\n",
       "      <th></th>\n",
       "      <th>id</th>\n",
       "      <th>score</th>\n",
       "      <th>review</th>\n",
       "      <th>sentiment</th>\n",
       "    </tr>\n",
       "  </thead>\n",
       "  <tbody>\n",
       "    <tr>\n",
       "      <th>0</th>\n",
       "      <td>0</td>\n",
       "      <td>10</td>\n",
       "      <td>I went and saw this movie last night after bei...</td>\n",
       "      <td>pos</td>\n",
       "    </tr>\n",
       "    <tr>\n",
       "      <th>1</th>\n",
       "      <td>10000</td>\n",
       "      <td>7</td>\n",
       "      <td>Actor turned director Bill Paxton follows up h...</td>\n",
       "      <td>pos</td>\n",
       "    </tr>\n",
       "    <tr>\n",
       "      <th>2</th>\n",
       "      <td>10001</td>\n",
       "      <td>9</td>\n",
       "      <td>As a recreational golfer with some knowledge o...</td>\n",
       "      <td>pos</td>\n",
       "    </tr>\n",
       "  </tbody>\n",
       "</table>\n",
       "</div>"
      ],
      "text/plain": [
       "      id score                                             review sentiment\n",
       "0      0    10  I went and saw this movie last night after bei...       pos\n",
       "1  10000     7  Actor turned director Bill Paxton follows up h...       pos\n",
       "2  10001     9  As a recreational golfer with some knowledge o...       pos"
      ]
     },
     "execution_count": 57,
     "metadata": {},
     "output_type": "execute_result"
    }
   ],
   "source": [
    "test_df.head(3)"
   ]
  },
  {
   "cell_type": "code",
   "execution_count": 59,
   "id": "56eebe88-cb0b-4f41-8dea-53eb770da7b4",
   "metadata": {},
   "outputs": [],
   "source": [
    "train_df[\"sentiment\"] = train_df[\"sentiment\"].map({\"pos\":1, \"neg\":0})\n",
    "test_df[\"sentiment\"] = test_df[\"sentiment\"].map({\"pos\":1, \"neg\":0})"
   ]
  },
  {
   "cell_type": "code",
   "execution_count": 61,
   "id": "7631a860-926b-439d-b2d3-e3f8dcbd8cfd",
   "metadata": {},
   "outputs": [
    {
     "data": {
      "text/plain": [
       "0    12500\n",
       "1    12500\n",
       "Name: sentiment, dtype: int64"
      ]
     },
     "execution_count": 61,
     "metadata": {},
     "output_type": "execute_result"
    }
   ],
   "source": [
    "train_df.sentiment.value_counts()"
   ]
  },
  {
   "cell_type": "code",
   "execution_count": 91,
   "id": "6e46519f-a0d6-4183-9809-18933f20919f",
   "metadata": {},
   "outputs": [
    {
     "data": {
      "text/plain": [
       "0    12500\n",
       "1    12500\n",
       "Name: sentiment, dtype: int64"
      ]
     },
     "execution_count": 91,
     "metadata": {},
     "output_type": "execute_result"
    }
   ],
   "source": [
    "test_df.sentiment.value_counts()"
   ]
  },
  {
   "cell_type": "markdown",
   "id": "500556e4-d514-49a7-8626-fcc09ada37bc",
   "metadata": {},
   "source": [
    "## Vectorize the Data"
   ]
  },
  {
   "cell_type": "code",
   "execution_count": 114,
   "id": "a34fc735-b823-4873-a495-c7f46820a242",
   "metadata": {},
   "outputs": [],
   "source": [
    "corpus_train = train_df.review\n",
    "corpus_test = test_df.review\n",
    "vectorizer = CountVectorizer(stop_words=\"english\")\n",
    "X_train = vectorizer.fit_transform(corpus_train)\n",
    "X_test = vectorizer.transform(corpus_test)"
   ]
  },
  {
   "cell_type": "markdown",
   "id": "480e82e4-3f02-4d3d-82ab-0fa0258fdf57",
   "metadata": {},
   "source": [
    "## Model Building"
   ]
  },
  {
   "cell_type": "markdown",
   "id": "e4910819-1457-4ef0-bebb-47a23f36d397",
   "metadata": {},
   "source": [
    "### Baseline\n",
    "We will use a Gaussian Naive Bayes Classifier as our baseline approach"
   ]
  },
  {
   "cell_type": "code",
   "execution_count": 115,
   "id": "c1f35fe3-f962-4593-93bf-95427ff16f05",
   "metadata": {},
   "outputs": [],
   "source": [
    "X_train = X_train.todense()\n",
    "X_test = X_test.todense()\n",
    "y_train = train_df.sentiment\n",
    "y_test = test_df.sentiment"
   ]
  },
  {
   "cell_type": "code",
   "execution_count": 116,
   "id": "29ed2a9d-adc3-4283-9fb1-b914649aa4a2",
   "metadata": {},
   "outputs": [],
   "source": [
    "gnb = GaussianNB()\n",
    "gnb.fit(X_train, y_train)\n",
    "y_pred = gnb.predict(X_test)"
   ]
  },
  {
   "cell_type": "code",
   "execution_count": 117,
   "id": "4ccf0abf-a3d1-49ee-a75d-19dc9d4590db",
   "metadata": {},
   "outputs": [
    {
     "name": "stdout",
     "output_type": "stream",
     "text": [
      "0.56944\n"
     ]
    }
   ],
   "source": [
    "print((y_test == y_pred).sum()/len(y_test))"
   ]
  },
  {
   "cell_type": "markdown",
   "id": "e139ccdd-b65c-4244-8eb8-58f8c866de05",
   "metadata": {
    "tags": []
   },
   "source": [
    "### Gradient Boosting"
   ]
  },
  {
   "cell_type": "code",
   "execution_count": 120,
   "id": "f9a7bf15-37cd-4e4d-9017-d9b1bdbc7dc7",
   "metadata": {},
   "outputs": [
    {
     "data": {
      "text/plain": [
       "0.82544"
      ]
     },
     "execution_count": 120,
     "metadata": {},
     "output_type": "execute_result"
    }
   ],
   "source": [
    "clf = GradientBoostingClassifier(n_estimators=100, learning_rate=1.0, max_depth=1, random_state=0)\n",
    "clf.fit(X_train, y_train)\n",
    "clf.score(X_test, y_test)"
   ]
  },
  {
   "cell_type": "code",
   "execution_count": null,
   "id": "ed7891ca-a512-43e5-be3b-0a3c6a79acc4",
   "metadata": {},
   "outputs": [],
   "source": []
  }
 ],
 "metadata": {
  "kernelspec": {
   "display_name": "Python 3",
   "language": "python",
   "name": "python3"
  },
  "language_info": {
   "codemirror_mode": {
    "name": "ipython",
    "version": 3
   },
   "file_extension": ".py",
   "mimetype": "text/x-python",
   "name": "python",
   "nbconvert_exporter": "python",
   "pygments_lexer": "ipython3",
   "version": "3.8.8"
  }
 },
 "nbformat": 4,
 "nbformat_minor": 5
}
